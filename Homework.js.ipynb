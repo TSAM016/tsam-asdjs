{
 "metadata": {
  "name": ""
 },
 "nbformat": 3,
 "nbformat_minor": 0,
 "worksheets": [
  {
   "cells": [
    {
     "cell_type": "markdown",
     "metadata": {},
     "source": [
      "#Esercizio 1"
     ]
    },
    {
     "cell_type": "code",
     "collapsed": false,
     "input": [
      "array = [1,2,3,4,5,6,7,8,-9,10];\n",
      "function sumTillNeg(myarray){\n",
      "    if (array.length == 0){\n",
      "        return 0;\n",
      "    } else {\n",
      "        if(myarray[0] >= 0){\n",
      "            return myarray[0] + sumTillNeg(myarray.slice(1));\n",
      "        } else {\n",
      "            return 0;\n",
      "        }\n",
      "    }\n",
      "}\n",
      "console.log(sumTillNeg(array));"
     ],
     "language": "python",
     "metadata": {},
     "outputs": [
      {
       "output_type": "stream",
       "stream": "stdout",
       "text": [
        "36\n"
       ]
      },
      {
       "metadata": {},
       "output_type": "pyout",
       "prompt_number": 20,
       "text": [
        "undefined"
       ]
      }
     ],
     "prompt_number": 20
    },
    {
     "cell_type": "markdown",
     "metadata": {},
     "source": [
      "#Esercizio 2"
     ]
    },
    {
     "cell_type": "code",
     "collapsed": false,
     "input": [
      "function sumOdd(n){\n",
      "    if (n < 0){\n",
      "        return 0;\n",
      "    } else {\n",
      "            if(n%2 !=0){\n",
      "                return n + sumOdd(n - 1);\n",
      "        } else {\n",
      "            return 0 + sumOdd(n - 1);\n",
      "            }\n",
      "    }\n",
      "}\n",
      "console.log(sumOdd(10));"
     ],
     "language": "python",
     "metadata": {},
     "outputs": [
      {
       "output_type": "stream",
       "stream": "stdout",
       "text": [
        "25\n"
       ]
      },
      {
       "metadata": {},
       "output_type": "pyout",
       "prompt_number": 22,
       "text": [
        "undefined"
       ]
      }
     ],
     "prompt_number": 22
    },
    {
     "cell_type": "markdown",
     "metadata": {},
     "source": [
      "#Esercizio 3"
     ]
    },
    {
     "cell_type": "code",
     "collapsed": false,
     "input": [
      "function sumAll(array){\n",
      "    if(array.length == 0){\n",
      "        return 0;\n",
      "    } else {\n",
      "        return array[0] + sumAll(array.slice(1))\n",
      "    }\n",
      "}\n",
      "console.log(sumAll(array) / array.length);"
     ],
     "language": "python",
     "metadata": {},
     "outputs": [
      {
       "output_type": "stream",
       "stream": "stdout",
       "text": [
        "3.7\n"
       ]
      },
      {
       "metadata": {},
       "output_type": "pyout",
       "prompt_number": 24,
       "text": [
        "undefined"
       ]
      }
     ],
     "prompt_number": 24
    },
    {
     "cell_type": "markdown",
     "metadata": {},
     "source": [
      "#Esercizio 4"
     ]
    },
    {
     "cell_type": "code",
     "collapsed": false,
     "input": [
      "function sumInterval(a,b){\n",
      "    if(a < b){\n",
      "        if(a == b){\n",
      "            return a;\n",
      "        } else\n",
      "            return b + sumInterval(a,(b-1));\n",
      "    } else {\n",
      "        if (a == b){\n",
      "            return b;\n",
      "        } else {\n",
      "            return a + sumInterval((a - 1),b);\n",
      "        }\n",
      "    }\n",
      "}\n",
      "console.log(sumInterval(3,5));\n",
      "console.log(sumInterval(5,3));"
     ],
     "language": "python",
     "metadata": {},
     "outputs": [
      {
       "output_type": "stream",
       "stream": "stdout",
       "text": [
        "12\n"
       ]
      },
      {
       "output_type": "stream",
       "stream": "stdout",
       "text": [
        "12\n"
       ]
      },
      {
       "metadata": {},
       "output_type": "pyout",
       "prompt_number": 28,
       "text": [
        "undefined"
       ]
      }
     ],
     "prompt_number": 28
    },
    {
     "cell_type": "markdown",
     "metadata": {},
     "source": [
      "#Esercizio 5"
     ]
    },
    {
     "cell_type": "code",
     "collapsed": false,
     "input": [
      "function mult(a,b){\n",
      "    if(a >= 0 && b > 0){\n",
      "        return a + mult(a,(b - 1));\n",
      "    } else return 0;\n",
      "}\n",
      "console.log(mult(2,3));"
     ],
     "language": "python",
     "metadata": {},
     "outputs": [
      {
       "output_type": "stream",
       "stream": "stdout",
       "text": [
        "6\n"
       ]
      },
      {
       "metadata": {},
       "output_type": "pyout",
       "prompt_number": 36,
       "text": [
        "undefined"
       ]
      }
     ],
     "prompt_number": 36
    },
    {
     "cell_type": "markdown",
     "metadata": {},
     "source": [
      "#Esercizio 6"
     ]
    },
    {
     "cell_type": "code",
     "collapsed": false,
     "input": [
      "function div(a,b){\n",
      "    if (a>=b) return parseInt(1 + div(a-b));\n",
      "    else {console.log(\"Resto: \" + a); return 0;}\n",
      "}\n",
      "a = 5;\n",
      "b = 3;\n",
      "console.log(div(a,b));"
     ],
     "language": "python",
     "metadata": {},
     "outputs": [
      {
       "output_type": "stream",
       "stream": "stdout",
       "text": [
        "Resto: 2\n"
       ]
      },
      {
       "output_type": "stream",
       "stream": "stdout",
       "text": [
        "1\n"
       ]
      },
      {
       "metadata": {},
       "output_type": "pyout",
       "prompt_number": 2,
       "text": [
        "undefined"
       ]
      }
     ],
     "prompt_number": 2
    },
    {
     "cell_type": "markdown",
     "metadata": {},
     "source": [
      "#Esercizio 7"
     ]
    },
    {
     "cell_type": "code",
     "collapsed": false,
     "input": [
      "function pow(a,b){\n",
      "    if(b == 0){\n",
      "        return 1;\n",
      "    } else {\n",
      "        return (mult(a,pow(a,(b - 1))));\n",
      "    }\n",
      "}\n",
      "console.log(pow(2,3));"
     ],
     "language": "python",
     "metadata": {},
     "outputs": [
      {
       "output_type": "stream",
       "stream": "stdout",
       "text": [
        "8\n"
       ]
      },
      {
       "metadata": {},
       "output_type": "pyout",
       "prompt_number": 51,
       "text": [
        "undefined"
       ]
      }
     ],
     "prompt_number": 51
    },
    {
     "cell_type": "markdown",
     "metadata": {},
     "source": [
      "#Esercizio 8"
     ]
    },
    {
     "cell_type": "code",
     "collapsed": false,
     "input": [
      "function matrice(n){\n",
      "    a=[];\n",
      "    cont = 0;\n",
      "    for(i=0;i < n;i++){\n",
      "        a[i]=[];\n",
      "        for(j=0;j < n;j++){\n",
      "            a[i][j] = cont;\n",
      "            cont++;\n",
      "            }\n",
      "        }\n",
      "    return a;\n",
      "}\n",
      "console.log(matrice(5));"
     ],
     "language": "python",
     "metadata": {},
     "outputs": [
      {
       "output_type": "stream",
       "stream": "stdout",
       "text": [
        "[ [ 0, 1, 2, 3, 4 ],\n",
        "  [ 5, 6, 7, 8, 9 ],\n",
        "  [ 10, 11, 12, 13, 14 ],\n",
        "  [ 15, 16, 17, 18, 19 ],\n",
        "  [ 20, 21, 22, 23, 24 ] ]\n"
       ]
      },
      {
       "metadata": {},
       "output_type": "pyout",
       "prompt_number": 25,
       "text": [
        "undefined"
       ]
      }
     ],
     "prompt_number": 25
    },
    {
     "cell_type": "markdown",
     "metadata": {},
     "source": [
      "#Esercizio 9"
     ]
    },
    {
     "cell_type": "code",
     "collapsed": false,
     "input": [
      "A = [2,5,8];\n",
      "\n",
      "function inverti(array){\n",
      "    b = [];\n",
      "    for(i=0;i < array.length;i++){\n",
      "        b[i]= array[(array.length -1) - i];\n",
      "        }\n",
      "    return b\n",
      "}\n",
      "console.log(inverti(A));"
     ],
     "language": "python",
     "metadata": {},
     "outputs": [
      {
       "output_type": "stream",
       "stream": "stdout",
       "text": [
        "[ 8, 5, 2 ]\n"
       ]
      },
      {
       "metadata": {},
       "output_type": "pyout",
       "prompt_number": 38,
       "text": [
        "undefined"
       ]
      }
     ],
     "prompt_number": 38
    },
    {
     "cell_type": "markdown",
     "metadata": {},
     "source": [
      "#Esercizio 10"
     ]
    },
    {
     "cell_type": "code",
     "collapsed": false,
     "input": [
      "array = [];\n",
      "cont = 0;\n",
      "\n",
      "function replicate(a,n){\n",
      "    if(n > 0){\n",
      "        array[cont] = a;\n",
      "        cont++;\n",
      "        replicate(a, n-1);\n",
      "    }\n",
      "    return array;\n",
      "}\n",
      "console.log(replicate(3,4));"
     ],
     "language": "python",
     "metadata": {},
     "outputs": [
      {
       "output_type": "stream",
       "stream": "stdout",
       "text": [
        "[ 3, 3, 3, 3 ]\n"
       ]
      },
      {
       "metadata": {},
       "output_type": "pyout",
       "prompt_number": 131,
       "text": [
        "undefined"
       ]
      }
     ],
     "prompt_number": 131
    },
    {
     "cell_type": "markdown",
     "metadata": {},
     "source": [
      "#Esercizio 11"
     ]
    },
    {
     "cell_type": "code",
     "collapsed": false,
     "input": [
      "ArrayDP = [2,5,1,8];\n",
      "arrayP = [];\n",
      "arrayD = [];\n",
      "count = 0;\n",
      "function sortPD(array){\n",
      "    if(array.length == 0){\n",
      "        return 0;\n",
      "    } else {\n",
      "        if(array[0] % 2 != 0){\n",
      "            arrayD[count] = array[0];\n",
      "        } else {\n",
      "            arrayP[count] = array[0];\n",
      "        return sortPD(array.slice(1))\n",
      "            }\n",
      "        }\n",
      "    count++;\n",
      "    return arrayD.concat(arrayP);\n",
      "}\n",
      "console.log(sortPD(ArrayDP));"
     ],
     "language": "python",
     "metadata": {},
     "outputs": [
      {
       "output_type": "stream",
       "stream": "stdout",
       "text": [
        "[ 5, 2 ]\n"
       ]
      },
      {
       "metadata": {},
       "output_type": "pyout",
       "prompt_number": 24,
       "text": [
        "undefined"
       ]
      }
     ],
     "prompt_number": 24
    },
    {
     "cell_type": "code",
     "collapsed": false,
     "input": [],
     "language": "python",
     "metadata": {},
     "outputs": []
    }
   ],
   "metadata": {}
  }
 ]
}